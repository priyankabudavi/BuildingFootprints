{
  "nbformat": 4,
  "nbformat_minor": 0,
  "metadata": {
    "colab": {
      "name": "Resize_images",
      "provenance": [],
      "authorship_tag": "ABX9TyMCkn9zxrvnptyYjGknKpNd",
      "include_colab_link": true
    },
    "kernelspec": {
      "name": "python3",
      "display_name": "Python 3"
    },
    "language_info": {
      "name": "python"
    }
  },
  "cells": [
    {
      "cell_type": "markdown",
      "metadata": {
        "id": "view-in-github",
        "colab_type": "text"
      },
      "source": [
        "<a href=\"https://colab.research.google.com/github/priyankabudavi/BuildingFootprints/blob/main/Resize_images.ipynb\" target=\"_parent\"><img src=\"https://colab.research.google.com/assets/colab-badge.svg\" alt=\"Open In Colab\"/></a>"
      ]
    },
    {
      "cell_type": "markdown", 
      "metadata": {
        "id": "KjCx4bNs2YYl"
      },
      "source": [
        ""
      ]
    },
    {
      "cell_type": "markdown",
      "metadata": {
        "id": "jvHzklfA2ctK"
      },
      "source": [
        "Resize the images using the below code. Pixel = (800 *800) "
      ]
    },
    {
      "cell_type": "code",
      "metadata": {
        "colab": {
          "base_uri": "https://localhost:8080/"
        },
        "id": "u60A5J7J2pk6",
        "outputId": "a8490386-b261-480a-b5be-744b3a6b91e8"
      },
      "source": [
        "# -*- coding: utf-8 -*-\n",
        "\"\"\"\n",
        "Created on Thu Oct  7 16:02:03 2021\n",
        "\n",
        "@author: p_bud\n",
        "\"\"\"\n",
        "\n",
        "\n",
        "from PIL import Image\n",
        "import glob\n",
        "\n",
        "\n",
        "\n",
        "image_list = []\n",
        "resized_list = []\n",
        "\n",
        "\n",
        "#append image to the list\n",
        "for filename in glob.glob('/C26047166.jpg'):\n",
        "    print(filename)\n",
        "    img = Image.open(filename)\n",
        "    image_list.append(img)\n",
        "\n",
        "\n",
        "#append resized images to list\n",
        "for image in image_list:\n",
        "    image.show()\n",
        "    image = image.resize((800 , 800))\n",
        "    resized_list.append(image)\n",
        "\n",
        "\n",
        "for (i , new) in enumerate(resized_list):\n",
        "    new.save('{}{}{}'.format('BuildingFootprint' , i+1 , '.jpg'))"
      ],
      "execution_count": 3,
      "outputs": [
        {
          "output_type": "stream",
          "name": "stdout",
          "text": [
            "/C26047166.jpg\n"
          ]
        }
      ]
    }
  ]
}
